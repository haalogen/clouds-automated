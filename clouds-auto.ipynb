{
 "cells": [
  {
   "cell_type": "code",
   "execution_count": 1,
   "metadata": {
    "collapsed": true
   },
   "outputs": [],
   "source": [
    "#!/usr/bin/env python\n",
    "#-*- coding:utf-8 -*-\n",
    "import sys\n",
    "import os\n",
    "import numpy as np\n",
    "from PIL import Image\n",
    "\n",
    "np.set_printoptions(suppress=True)"
   ]
  },
  {
   "cell_type": "code",
   "execution_count": 2,
   "metadata": {
    "collapsed": false
   },
   "outputs": [],
   "source": [
    "# A) =Вход=\n",
    "# 1) 2 файла изображений стереопары (в некой папке img/):\n",
    "# 20160824-174253-406-1.jpg\n",
    "# 20160824-174253-406-2.jpg\n",
    "\n",
    "# for ipynb\n",
    "fname_left = 'img/20160825-143207-156-1.jpg'\n",
    "fname_right = 'img/20160825-143207-156-2.jpg'\n",
    "\n",
    "# for cmd line run\n",
    "# fname_left = os.path.abspath(sys.argv[0])\n",
    "# fname_right = os.path.abspath(sys.argv[1])"
   ]
  },
  {
   "cell_type": "code",
   "execution_count": 3,
   "metadata": {
    "collapsed": false
   },
   "outputs": [
    {
     "name": "stdout",
     "output_type": "stream",
     "text": [
      "Images loaded as grayscale:\n",
      "img/20160825-143207-156-1.jpg\n",
      "img/20160825-143207-156-2.jpg\n"
     ]
    }
   ],
   "source": [
    "img_left = Image.open(fname_left).convert(mode='L')\n",
    "img_right = Image.open(fname_right).convert(mode='L')\n",
    "print \"\"\"Images loaded as grayscale:\n",
    "%s\n",
    "%s\"\"\" % (fname_left, fname_right)"
   ]
  },
  {
   "cell_type": "code",
   "execution_count": 4,
   "metadata": {
    "collapsed": false
   },
   "outputs": [
    {
     "name": "stdout",
     "output_type": "stream",
     "text": [
      "Align coeeficients:\n",
      "[   0.9949    0.0058   -0.0115    1.0016  247.9095   47.3994    0.        0.    ]\n"
     ]
    }
   ],
   "source": [
    "# 2) Конфигурация эксперимента\n",
    "# Txt-файлы (в папке config) \n",
    "# * Аффинные+дисторсные коэффициенты для цифровой юстировки стереопары:\n",
    "# файл aff_dist.txt: a, b, c, d, e, f, eps1, eps2 -- 8 коэффициентов\n",
    "\n",
    "# rX = a*lX + b*lY + e - eps1*z_x(lX, lY) + eps2*z_x(rX, rY)\n",
    "# rY = c*lX + d*lY + f - eps1*z_y(lX, lY) + eps2*z_y(rX, rY),\n",
    "# where approximately(!):\n",
    "# z_x = (x-x0)*[ (x-x0)^2 +(y-y0)^2 ] = z_x(rX, rY) = z_x(lX, lY)\n",
    "# z_y = (y-y0)*[ (x-x0)^2 +(y-y0)^2 ] = z_y(rX, rY) = z_y(lY, lY)\n",
    "\n",
    "align_coeffs = np.loadtxt('config/aff_dist.txt')\n",
    "\n",
    "print 'Align coeeficients:\\n', align_coeffs"
   ]
  },
  {
   "cell_type": "code",
   "execution_count": 5,
   "metadata": {
    "collapsed": false
   },
   "outputs": [
    {
     "name": "stdout",
     "output_type": "stream",
     "text": [
      "Other settings: \n",
      "[  17.     0.5   62.     5.   256.   200. ]\n"
     ]
    }
   ],
   "source": [
    "# * Расстояние между камерами, Угол обзора камер по оси Х (горизонтали), \n",
    "# Число градаций серого, Минимальная высота:\n",
    "\n",
    "# файл settings.txt: cam_distance (17.0 (m)), cam_distance_err (0.5 (m)), \n",
    "# cam_viewangle (62.0 degrees), cam_viewangle_err (5.0 degrees), \n",
    "# num_shades (256 (px)), min_height (200 (m))\n",
    "\n",
    "settings = np.loadtxt('config/settings.txt')\n",
    "\n",
    "print 'Other settings: \\n', settings"
   ]
  },
  {
   "cell_type": "code",
   "execution_count": 6,
   "metadata": {
    "collapsed": false
   },
   "outputs": [
    {
     "name": "stdout",
     "output_type": "stream",
     "text": [
      "Number of measurements:  10\n",
      "Width of search fragment: 200\n",
      "Height of search fragment: 200\n"
     ]
    }
   ],
   "source": [
    "# 4) Желаемое количество измерений на стереопаре: num_measurements\n",
    "# по умолчанию: 10\n",
    "# 5) Размеры кусочков для анализа (px): piece_width, piece_height \n",
    "# по умолчанию: 200, 200\n",
    "\n",
    "num_measurements = 10\n",
    "piece_width = 200\n",
    "piece_height = 200\n",
    "print 'Number of measurements: ', num_measurements\n",
    "print 'Width of search fragment:', piece_width\n",
    "print 'Height of search fragment:', piece_height"
   ]
  },
  {
   "cell_type": "code",
   "execution_count": 7,
   "metadata": {
    "collapsed": false
   },
   "outputs": [],
   "source": [
    "# B) Алгоритм автоматизированного анализа стереопары\n",
    "\n",
    "# a) Подготовка к анализу:\n",
    "# -- Юстировка(\"Нормализация\") изображений для возможности анализа.\n",
    "a = align_coeffs[0];\n",
    "b = align_coeffs[1];\n",
    "c = align_coeffs[2];\n",
    "d = align_coeffs[3];\n",
    "e = align_coeffs[4];\n",
    "f = align_coeffs[5];\n",
    "eps1 = align_coeffs[6];\n",
    "eps2 = align_coeffs[7];"
   ]
  },
  {
   "cell_type": "code",
   "execution_count": 8,
   "metadata": {
    "collapsed": true
   },
   "outputs": [],
   "source": [
    "det = a * d - b * c;\n",
    "inv_a = d / det;\n",
    "inv_b = -b / det;\n",
    "inv_c = -c / det;\n",
    "inv_d = a / det;"
   ]
  },
  {
   "cell_type": "code",
   "execution_count": 9,
   "metadata": {
    "collapsed": true
   },
   "outputs": [],
   "source": [
    "def affine_transform_point(x, y):\n",
    "    return [b * y + x * a + e , d * y + x * c + f]"
   ]
  },
  {
   "cell_type": "code",
   "execution_count": 10,
   "metadata": {
    "collapsed": false
   },
   "outputs": [],
   "source": [
    "def apply_affine(img_left, img_right):\n",
    "    width = img_left.width\n",
    "    height = img_left.height\n",
    "    \n",
    "    aff_coord = np.zeros((4, 2))\n",
    "#     affine transformation of the corner points\n",
    "    aff_coord[0] = affine_transform_point(0, 0)\n",
    "    aff_coord[1] = affine_transform_point(width, 0)\n",
    "    aff_coord[2] = affine_transform_point(0, height)\n",
    "    aff_coord[3] = affine_transform_point(width, height)\n",
    "    \n",
    "#     the rightmost (biggest by value) x-coordinate of the transformed\n",
    "#     left-top and left-bottom x-coordinates\n",
    "    x0 = int( max(aff_coord[0, 0], aff_coord[2, 0]) )\n",
    "#     the lowermost (biggest by value) y-coordinate of the transformed\n",
    "#     left-top and right-top y-coordinates\n",
    "    y0 = int( max(aff_coord[0, 1], aff_coord[1, 1]) )\n",
    "#     the leftmost (smallest by value) x-coordinate of the transformed\n",
    "#     right-top and right-bottom x-coordinates\n",
    "    x1 = int( min(aff_coord[1, 0], aff_coord[3, 0]) )\n",
    "#     the uppermost (smallest by value) y-coordinate of the transformed\n",
    "#     left-bottom and right-bottom y-coordinates\n",
    "    y1 = int( min(aff_coord[2, 1], aff_coord[3, 1]) )\n",
    "    \n",
    "#     n_x0 -- x-coordinate of the new left-bot point\n",
    "    n_x0 = int( max(0, x0) )\n",
    "#     n_y0 -- y-coordinate of the new left-bot point\n",
    "    n_y0 = int( max(0, y0) )\n",
    "#     n_x1 -- x-coordinate of the new right-top point\n",
    "    n_x1 = int( min(width, x1) )\n",
    "#     n_y1 -- y-coordinate of the new right-top point\n",
    "    n_y1 = int( min(height, y1) )\n",
    "    \n",
    "    nw = n_x1 - n_x0 # new width\n",
    "    nh = n_y1 - n_y0 # new height\n",
    "    \n",
    "    new_left_img = Image.new(mode='L', size=(nw, nh))\n",
    "    new_right_img = Image.new(mode='L', size=(nw, nh))\n",
    "    \n",
    "    # Load pixmaps\n",
    "    l_pix = img_left.load()\n",
    "    r_pix = img_right.load()\n",
    "    nl_pix = new_left_img.load()\n",
    "    nr_pix = new_right_img.load()\n",
    "    \n",
    "    \n",
    "    \n",
    "    for  y in xrange(n_y0, n_y1):\n",
    "        for x in xrange(n_x0, n_x1):\n",
    "# Let's calculate backwards our original coordinates of the left image\n",
    "            orig_x = int( (x - e) * inv_a + (y - f) * inv_b )\n",
    "            orig_y = int( (x - e) * inv_c + (y - f) * inv_d )\n",
    "            \n",
    "#             assert(0 <= orig_x <= width)\n",
    "#             assert(0 <= orig_y <= height)\n",
    "            \n",
    "# paint new images with coordinates from (0,0) to (nw - 1, nh - 1)\n",
    "            nl_pix[x - n_x0, y - n_y0] = l_pix[orig_x, orig_y]\n",
    "            nr_pix[x - n_x0, y - n_y0] = r_pix[x, y]\n",
    "    \n",
    "    return (new_left_img, new_right_img)"
   ]
  },
  {
   "cell_type": "code",
   "execution_count": 11,
   "metadata": {
    "collapsed": true
   },
   "outputs": [],
   "source": [
    "# for i = 0..num_measurements: # num_measurements раз\n",
    "\n",
    "# --  эксперимент по оценке высоты:\n",
    "# --- Из центральной части 1ого изображения берем случаным образом кусочек \n",
    "# размером (piece_width, piece_height).\n",
    "# Ищем ближайший кусочек на области из 2го изображения, соответствующей \n",
    "# минимальной высоте min_height, ближайший по морфологической форме к \n",
    "# искомому.\n",
    "# --- Считаем горизонтальный сдвиг между левыми верхними углами кусочков,\n",
    "# вычисляем дистанцию до облачности и погрешность.\n",
    "\n",
    "# -- Дописываем результат эксперимента в последнюю строку соответствующего\n",
    "# файла.\n",
    "# endfor\n"
   ]
  },
  {
   "cell_type": "code",
   "execution_count": 12,
   "metadata": {
    "collapsed": true
   },
   "outputs": [],
   "source": [
    "img_left_n, img_right_n = apply_affine(img_left, img_right)\n",
    "\n",
    "img_left = img_left_n\n",
    "img_right = img_right_n"
   ]
  },
  {
   "cell_type": "code",
   "execution_count": 19,
   "metadata": {
    "collapsed": false
   },
   "outputs": [
    {
     "data": {
      "text/plain": [
       "'img/20160825-143207-156-1_aff_applied.png'"
      ]
     },
     "execution_count": 19,
     "metadata": {},
     "output_type": "execute_result"
    }
   ],
   "source": [
    "fname_left[:-4]+\"_aff_applied.png\""
   ]
  },
  {
   "cell_type": "code",
   "execution_count": 20,
   "metadata": {
    "collapsed": false
   },
   "outputs": [],
   "source": [
    "# img_left.save(fname_left[: -4] + \"_aff_applied.png\")\n",
    "# img_right.save(fname_right[: -4] + \"_aff_applied.png\")"
   ]
  },
  {
   "cell_type": "code",
   "execution_count": 13,
   "metadata": {
    "collapsed": false
   },
   "outputs": [],
   "source": [
    "w = img_left.width\n",
    "h = img_right.height"
   ]
  },
  {
   "cell_type": "code",
   "execution_count": 14,
   "metadata": {
    "collapsed": false
   },
   "outputs": [
    {
     "name": "stdout",
     "output_type": "stream",
     "text": [
      "2811 2257\n",
      "1867 759\n"
     ]
    }
   ],
   "source": [
    "piece_x = np.random.randint(w / 4.0, 3 * w / 4.0)\n",
    "piece_y = np.random.randint(h / 4.0, 3 * h / 4.0)\n",
    "print w, h\n",
    "print piece_x, piece_y\n",
    "\n",
    "piece = img_left.crop((piece_x, piece_y, \n",
    "                 piece_x + piece_width, piece_y + piece_height))"
   ]
  },
  {
   "cell_type": "code",
   "execution_count": 15,
   "metadata": {
    "collapsed": false
   },
   "outputs": [
    {
     "name": "stdout",
     "output_type": "stream",
     "text": [
      "1667 359\n",
      "598 800\n"
     ]
    }
   ],
   "source": [
    "# typical Other settings: \n",
    "# [  17.     0.5   62.     5.   256.   200. ]\n",
    "base = settings[0]\n",
    "base_err = settings[1]\n",
    "viewangle_x = settings[2] # in degrees\n",
    "viewangle_x_err = settings[3] # in degrees\n",
    "num_shades = int(settings[4])\n",
    "min_height = settings[5]\n",
    "\n",
    "resolution_x = img_left.width;\n",
    "viewangle = np.pi * viewangle_x / 180.0\n",
    "\n",
    "\n",
    "# mpd is Maximum Pixel Distance <--> Minimum cloud height(altitude)\n",
    "mpd = base * resolution_x / (2 * np.tan(viewangle / 2.0) * min_height)\n",
    "fac_x = 1; # reserve-coefficient\n",
    "fac_y = 2; #reserve-coefficient\n",
    "\n",
    "area_x = int(piece_x - fac_x * piece_width)\n",
    "area_y = int(piece_y - fac_y * piece_height)\n",
    "area_width = int(mpd + 2 * fac_x * piece_width)\n",
    "area_height = int(2 * fac_y * piece_height)\n",
    "print area_x, area_y\n",
    "print area_width, area_height\n",
    "\n",
    "# area to search on right image\n",
    "area = img_right.crop( (area_x, area_y, \n",
    "                        area_x + area_width, area_y + area_height) ) "
   ]
  },
  {
   "cell_type": "code",
   "execution_count": 17,
   "metadata": {
    "collapsed": true
   },
   "outputs": [],
   "source": [
    "# All needed arrays\n",
    "# piece === object\n",
    "# image === area\n",
    "fft_piece_input = np.zeros((area_height, area_width))\n",
    "fft_piece_output = np.zeros((area_height, area_width), dtype=complex)\n",
    "\n",
    "fft_area_input = np.zeros((area_height, area_width))\n",
    "fft_area_output = np.zeros((area_height, area_width), dtype=complex)\n",
    "fft_area_output_cached = np.zeros((area_height, area_width), dtype=complex)\n",
    "\n",
    "fft_multiplied = np.zeros((area_height, area_width), dtype=complex)\n",
    "ifft_result = np.zeros((area_height, area_width))                            "
   ]
  },
  {
   "cell_type": "code",
   "execution_count": 48,
   "metadata": {
    "collapsed": true
   },
   "outputs": [],
   "source": [
    "def calc_convolution(chi, sqr_img_flag):\n",
    "    \n",
    "    \n",
    "    \n",
    "    return res"
   ]
  },
  {
   "cell_type": "code",
   "execution_count": 55,
   "metadata": {
    "collapsed": false
   },
   "outputs": [],
   "source": [
    "def find_object(img, obj, num_shades):\n",
    "    \"\"\"Finds object 'obj' on image 'img' using num_shades shades of gray\"\"\"\n",
    "    \n",
    "    chi = np.zeros((num_shades, img_size), dtype=bool)\n",
    "    obj_pm = obj.load()\n",
    "    img_pm = img.load()\n",
    "    \n",
    "    for h in xrange(obj_height):\n",
    "        for w in xrange(obj_width):\n",
    "            color = obj_pm[w, h] / (256.0 / num_shades)\n",
    "            index = (obj_height - h - 1)*img_width + (obj_width - w - 1)\n",
    "            chi[color, index] = True;\n",
    "\n",
    "# Let's count how many pixels have color == i\n",
    "# chi_elements[i] -- number of grayscale object pixels that have color == i \n",
    "    chi_elements = np.zeros(num_shades)\n",
    "    for i in xrange(num_shades):\n",
    "        chi_elements[i] = sum(chi[i])    \n",
    "    \n",
    "    convolution = np.zeros((num_shades, img_size))\n",
    "    for i in xrange(num_shades):\n",
    "        if chi_elements[i] > 0:\n",
    "            convolution[i] = calc_convolution(chi[i], false)\n",
    "    \n",
    "    f_chi = np.zeros(img_size, dtype=bool)\n",
    "    for h in xrange(obj_height):\n",
    "        for  w in xrange(obj_width):\n",
    "            index = h * img_width + w\n",
    "            f_chi[index] = True\n",
    "    \n",
    "    f = calc_convolution(f_chi, True)\n",
    "    \n",
    "    conv_offset_x = obj_width - 1\n",
    "    conv_offset_y = obj_height - 1\n",
    "    \n",
    "#      ||f - Ph(f)||^2 -- numerator in tau fraction\n",
    "    numerator = np.ones(img_size) * 1e100 # big default values\n",
    "    for h in xrange(img_height - obj_height + 1):\n",
    "        for w in xrange(img_width - obj_width + 1):\n",
    "            index = img_width * h + w\n",
    "            index_k = img_width * (h + conv_offset_y) + (w + conv_offset_x)\n",
    "            s = 0\n",
    "            for k in xrange(num_shades):\n",
    "                if chi_elements[k] > 0:\n",
    "                    s += convolution[k, index_k] * \\\n",
    "                        convolution[k, index_k] / float(chi_elements[k])\n",
    "            \n",
    "            numerator[index] = abs(f[index_k] - s)\n",
    "            \n",
    "    \n",
    "#      ||Po(f) - Pn(f)||^2  -- denominator in tau fraction\n",
    "    denominator = np.zeros(img_size)\n",
    "    \n",
    "    for h in xrange(img_height - obj_height + 1):\n",
    "        for w in xrange(img_width - obj_width + 1):\n",
    "            index = img_width * h + w\n",
    "            index_k = img_width * (h + conv_offset_y) + (w + conv_offset_x)\n",
    "            s = 0\n",
    "            sum_i = 0\n",
    "            sum_k = 0\n",
    "            for k in xrange(num_shades):\n",
    "                if chi_elements[k] > 0:\n",
    "                    sum_i += convolution[k, index_k]\n",
    "                    sum_k += chi_elements[k]\n",
    "                    s += convolution[k, index_k] * \\\n",
    "                        convolution[k, index_k] / float(chi_elements[k])\n",
    "            \n",
    "            denominator[index] = s - sum_i * sum_i / float(sum_k)\n",
    "            denominator[index] = abs(denominator[index])\n",
    "    \n",
    "    \n",
    "    result = np.zeros(img_size)\n",
    "    result = numerator / denominator\n",
    "    \n",
    "#     index of top-left corner with minimal tau\n",
    "    index = np.argmin(result)\n",
    "    \n",
    "    # returns  (x, y)\n",
    "    return (index % img_width, index / img_width)"
   ]
  },
  {
   "cell_type": "code",
   "execution_count": 56,
   "metadata": {
    "collapsed": true
   },
   "outputs": [],
   "source": [
    "img = area\n",
    "obj = piece\n",
    "\n",
    "img_width = img.width\n",
    "img_height = img.height\n",
    "img_size = img_width * img_height\n",
    "obj_width = obj.width\n",
    "obj_height = obj.height\n",
    "\n",
    "# fft_object_input = fftw_alloc_real(img_size);\n",
    "# fft_object_output = fftw_alloc_complex(img_size);\n",
    "# fft_multiplied = fftw_alloc_complex(img_size);\n",
    "# # r2c -- real to complex\n",
    "# fft_object_plan = fftw_plan_dft_r2c_2d( img_height, img_width, fft_object_input, fft_object_output, 0);\n",
    "# ifft_result = fftw_alloc_real(img_size);\n",
    "# ifft_plan = fftw_plan_dft_c2r_2d( img_height, img_width, fft_multiplied, ifft_result, 0);"
   ]
  },
  {
   "cell_type": "code",
   "execution_count": 51,
   "metadata": {
    "collapsed": false
   },
   "outputs": [
    {
     "name": "stderr",
     "output_type": "stream",
     "text": [
      "/home/stan/anaconda2/lib/python2.7/site-packages/ipykernel/__main__.py:12: VisibleDeprecationWarning: using a non-integer number instead of an integer will result in an error in the future\n"
     ]
    },
    {
     "ename": "KeyboardInterrupt",
     "evalue": "",
     "output_type": "error",
     "traceback": [
      "\u001b[1;31m---------------------------------------------------------------------------\u001b[0m",
      "\u001b[1;31mKeyboardInterrupt\u001b[0m                         Traceback (most recent call last)",
      "\u001b[1;32m<ipython-input-51-3d49b212ce50>\u001b[0m in \u001b[0;36m<module>\u001b[1;34m()\u001b[0m\n\u001b[0;32m      1\u001b[0m \u001b[1;31m# result x, y -- координаты кусочка, найденного в области поиска area\u001b[0m\u001b[1;33m\u001b[0m\u001b[1;33m\u001b[0m\u001b[0m\n\u001b[1;32m----> 2\u001b[1;33m \u001b[0mres_x\u001b[0m\u001b[1;33m,\u001b[0m \u001b[0mres_y\u001b[0m \u001b[1;33m=\u001b[0m \u001b[0mfind_object\u001b[0m\u001b[1;33m(\u001b[0m\u001b[0marea\u001b[0m\u001b[1;33m,\u001b[0m \u001b[0mpiece\u001b[0m\u001b[1;33m,\u001b[0m \u001b[0mnum_shades\u001b[0m\u001b[1;33m)\u001b[0m\u001b[1;33m\u001b[0m\u001b[0m\n\u001b[0m",
      "\u001b[1;32m<ipython-input-49-5bc97a60bae8>\u001b[0m in \u001b[0;36mfind_object\u001b[1;34m(img, obj, num_shades)\u001b[0m\n\u001b[0;32m     16\u001b[0m     \u001b[0mchi_elements\u001b[0m \u001b[1;33m=\u001b[0m \u001b[0mnp\u001b[0m\u001b[1;33m.\u001b[0m\u001b[0mzeros\u001b[0m\u001b[1;33m(\u001b[0m\u001b[0mnum_shades\u001b[0m\u001b[1;33m)\u001b[0m\u001b[1;33m\u001b[0m\u001b[0m\n\u001b[0;32m     17\u001b[0m     \u001b[1;32mfor\u001b[0m \u001b[0mi\u001b[0m \u001b[1;32min\u001b[0m \u001b[0mxrange\u001b[0m\u001b[1;33m(\u001b[0m\u001b[0mnum_shades\u001b[0m\u001b[1;33m)\u001b[0m\u001b[1;33m:\u001b[0m\u001b[1;33m\u001b[0m\u001b[0m\n\u001b[1;32m---> 18\u001b[1;33m         \u001b[0mchi_elements\u001b[0m\u001b[1;33m[\u001b[0m\u001b[0mi\u001b[0m\u001b[1;33m]\u001b[0m \u001b[1;33m=\u001b[0m \u001b[0msum\u001b[0m\u001b[1;33m(\u001b[0m\u001b[0mchi\u001b[0m\u001b[1;33m[\u001b[0m\u001b[0mi\u001b[0m\u001b[1;33m]\u001b[0m\u001b[1;33m)\u001b[0m\u001b[1;33m\u001b[0m\u001b[0m\n\u001b[0m\u001b[0;32m     19\u001b[0m \u001b[1;33m\u001b[0m\u001b[0m\n\u001b[0;32m     20\u001b[0m     \u001b[0mconvolution\u001b[0m \u001b[1;33m=\u001b[0m \u001b[0mnp\u001b[0m\u001b[1;33m.\u001b[0m\u001b[0mzeros\u001b[0m\u001b[1;33m(\u001b[0m\u001b[1;33m(\u001b[0m\u001b[0mnum_shades\u001b[0m\u001b[1;33m,\u001b[0m \u001b[0mimg_size\u001b[0m\u001b[1;33m)\u001b[0m\u001b[1;33m)\u001b[0m\u001b[1;33m\u001b[0m\u001b[0m\n",
      "\u001b[1;31mKeyboardInterrupt\u001b[0m: "
     ]
    }
   ],
   "source": [
    "# result x, y -- координаты кусочка, найденного в области поиска area\n",
    "res_x, res_y = find_object(area, piece, num_shades)"
   ]
  },
  {
   "cell_type": "code",
   "execution_count": 54,
   "metadata": {
    "collapsed": false
   },
   "outputs": [
    {
     "data": {
      "text/plain": [
       "int"
      ]
     },
     "execution_count": 54,
     "metadata": {},
     "output_type": "execute_result"
    }
   ],
   "source": [
    "type(img_size)"
   ]
  },
  {
   "cell_type": "code",
   "execution_count": null,
   "metadata": {
    "collapsed": true
   },
   "outputs": [],
   "source": [
    "# Some trials/drafts below:"
   ]
  },
  {
   "cell_type": "code",
   "execution_count": 1,
   "metadata": {
    "collapsed": true
   },
   "outputs": [],
   "source": [
    "import numpy as np\n",
    "np.set_printoptions(precision=4)"
   ]
  },
  {
   "cell_type": "code",
   "execution_count": 2,
   "metadata": {
    "collapsed": false
   },
   "outputs": [
    {
     "name": "stdout",
     "output_type": "stream",
     "text": [
      "[[ 0.5469  0.005   0.1949]\n",
      " [ 0.3783  0.5774  0.4574]\n",
      " [ 0.0042  0.3671  0.8449]] \n",
      "\n",
      "[[ 3.3763+0.j     -0.2939+0.4743j -0.2939-0.4743j]\n",
      " [-0.5678-0.1706j  0.3691-0.3913j  1.2658-0.4102j]\n",
      " [-0.5678+0.1706j  1.2658+0.4102j  0.3691+0.3913j]] \n",
      "\n",
      "[[ 0.5469  0.005   0.1949]\n",
      " [ 0.3783  0.5774  0.4574]\n",
      " [ 0.0042  0.3671  0.8449]]\n"
     ]
    }
   ],
   "source": [
    "a = np.random.random((3, 3))\n",
    "print a, '\\n'\n",
    "print np.fft.fft2(a), '\\n'\n",
    "print np.fft.ifft2( np.fft.fft2(a) ).real"
   ]
  },
  {
   "cell_type": "code",
   "execution_count": 6,
   "metadata": {
    "collapsed": false
   },
   "outputs": [
    {
     "data": {
      "image/png": "[encoded data removed]",
      "text/plain": [
       "<PIL.Image.Image image mode=L size=400x400 at 0x7F2AE0037210>"
      ]
     },
     "execution_count": 6,
     "metadata": {},
     "output_type": "execute_result"
    }
   ],
   "source": [
    "area = Image.open('img/catcare.jpg').convert('L')\n",
    "area"
   ]
  },
  {
   "cell_type": "code",
   "execution_count": 7,
   "metadata": {
    "collapsed": false
   },
   "outputs": [
    {
     "data": {
      "text/plain": [
       "(400, 400)"
      ]
     },
     "execution_count": 7,
     "metadata": {},
     "output_type": "execute_result"
    }
   ],
   "source": [
    "area.size"
   ]
  },
  {
   "cell_type": "code",
   "execution_count": 8,
   "metadata": {
    "collapsed": false
   },
   "outputs": [
    {
     "data": {
      "image/png": "[encoded data removed]",
      "text/plain": [
       "<PIL.Image._ImageCrop image mode=L size=70x70 at 0x7F2AE0043790>"
      ]
     },
     "execution_count": 8,
     "metadata": {},
     "output_type": "execute_result"
    }
   ],
   "source": [
    "x = 50\n",
    "y = 150\n",
    "w = 70\n",
    "h = 70\n",
    "crop_box = (x, y, x+w, y+h)\n",
    "frag = area.crop(crop_box)\n",
    "frag"
   ]
  },
  {
   "cell_type": "code",
   "execution_count": 30,
   "metadata": {
    "collapsed": false
   },
   "outputs": [],
   "source": [
    "area_mat = np.asarray(area.getdata(), dtype=np.uint8).reshape((area.size[1], area.size[0]))\n",
    "frag_mat = np.asarray(frag.getdata(), dtype=np.uint8).reshape((frag.size[1], frag.size[0]))"
   ]
  },
  {
   "cell_type": "code",
   "execution_count": 31,
   "metadata": {
    "collapsed": false
   },
   "outputs": [
    {
     "data": {
      "text/plain": [
       "array([[240, 236, 225, ..., 232, 232, 232],\n",
       "       [240, 235, 224, ..., 232, 232, 232],\n",
       "       [240, 235, 223, ..., 232, 232, 232],\n",
       "       ..., \n",
       "       [120, 120, 120, ..., 211, 211, 211],\n",
       "       [121, 121, 121, ..., 211, 211, 211],\n",
       "       [122, 122, 122, ..., 211, 211, 211]], dtype=uint8)"
      ]
     },
     "execution_count": 31,
     "metadata": {},
     "output_type": "execute_result"
    }
   ],
   "source": [
    "area_mat"
   ]
  },
  {
   "cell_type": "code",
   "execution_count": 32,
   "metadata": {
    "collapsed": false
   },
   "outputs": [
    {
     "data": {
      "text/plain": [
       "(70, 70)"
      ]
     },
     "execution_count": 32,
     "metadata": {},
     "output_type": "execute_result"
    }
   ],
   "source": [
    "frag_mat.shape"
   ]
  },
  {
   "cell_type": "code",
   "execution_count": 37,
   "metadata": {
    "collapsed": false
   },
   "outputs": [
    {
     "data": {
      "image/png": "[encoded data removed]",
      "text/plain": [
       "<PIL.Image.Image image mode=L size=70x70 at 0x7F2ADB6C5550>"
      ]
     },
     "execution_count": 37,
     "metadata": {},
     "output_type": "execute_result"
    }
   ],
   "source": [
    "imf = Image.fromarray(frag_mat, 'L')\n",
    "ima = Image.fromarray(area_mat, 'L')\n",
    "imf"
   ]
  },
  {
   "cell_type": "code",
   "execution_count": 42,
   "metadata": {
    "collapsed": false
   },
   "outputs": [
    {
     "name": "stdout",
     "output_type": "stream",
     "text": [
      "[[ 59  69  77 ...,  55  77  71]\n",
      " [ 53  69  83 ...,  57  99  90]\n",
      " [ 50  69  92 ...,  66  82  93]\n",
      " ..., \n",
      " [ 90  98 100 ..., 110 111 112]\n",
      " [ 83  82  83 ..., 110 117 122]\n",
      " [ 74  75  82 ..., 100 108 115]]\n"
     ]
    },
    {
     "name": "stderr",
     "output_type": "stream",
     "text": [
      "/home/stan/anaconda2/lib/python2.7/site-packages/ipykernel/__main__.py:2: ComplexWarning: Casting complex values to real discards the imaginary part\n",
      "  from ipykernel import kernelapp as app\n"
     ]
    },
    {
     "data": {
      "image/png": "[encoded data removed]",
      "text/plain": [
       "<PIL.Image.Image image mode=L size=70x70 at 0x7F2ADB6BDB50>"
      ]
     },
     "execution_count": 42,
     "metadata": {},
     "output_type": "execute_result"
    }
   ],
   "source": [
    "frag_fft2 = np.fft.fft2(frag_mat)\n",
    "frag_ifft2 = np.fft.ifft2(frag_fft2).astype('uint8')\n",
    "print frag_ifft2\n",
    "imf1 = Image.fromarray(frag_ifft2, 'L')\n",
    "imf1"
   ]
  },
  {
   "cell_type": "code",
   "execution_count": 47,
   "metadata": {
    "collapsed": false
   },
   "outputs": [
    {
     "data": {
      "text/plain": [
       "(256, 400, 400)"
      ]
     },
     "execution_count": 47,
     "metadata": {},
     "output_type": "execute_result"
    }
   ],
   "source": [
    "# Create indicators \n",
    "t_chi = np.zeros([256] + list(area.size), dtype=bool)\n",
    "t_chi.shape"
   ]
  },
  {
   "cell_type": "code",
   "execution_count": 52,
   "metadata": {
    "collapsed": false
   },
   "outputs": [
    {
     "data": {
      "image/png": "[encoded data removed]",
      "text/plain": [
       "<PIL.Image.Image image mode=L size=70x70 at 0x7F2AF006F210>"
      ]
     },
     "execution_count": 52,
     "metadata": {},
     "output_type": "execute_result"
    }
   ],
   "source": [
    "flip_frag = np.fliplr(frag_mat)\n",
    "flip_frag = np.flipud(flip_frag)\n",
    "Image.fromarray(flip_frag, 'L')"
   ]
  },
  {
   "cell_type": "code",
   "execution_count": 53,
   "metadata": {
    "collapsed": true
   },
   "outputs": [],
   "source": [
    "# Fill indicators\n",
    "for h in xrange(flip_frag.shape[0]):\n",
    "    for w in xrange(flip_frag.shape[1]):\n",
    "        color = flip_frag[h, w]\n",
    "        t_chi[color, h, w] = True"
   ]
  },
  {
   "cell_type": "code",
   "execution_count": 66,
   "metadata": {
    "collapsed": false
   },
   "outputs": [
    {
     "name": "stdout",
     "output_type": "stream",
     "text": [
      "Populating the interactive namespace from numpy and matplotlib\n"
     ]
    }
   ],
   "source": [
    "%pylab inline"
   ]
  },
  {
   "cell_type": "code",
   "execution_count": null,
   "metadata": {
    "collapsed": true
   },
   "outputs": [],
   "source": [
    "frag_fft2 = np.fft.fft2(flip_frag)\n",
    "frag_ifft2 = np.fft.ifft2(frag_fft2).astype('uint8')\n",
    "print frag_ifft2\n",
    "imf1 = Image.fromarray(frag_ifft2, 'L')\n",
    "imf1"
   ]
  }
 ],
 "metadata": {
  "kernelspec": {
   "display_name": "Python 2",
   "language": "python",
   "name": "python2"
  },
  "language_info": {
   "codemirror_mode": {
    "name": "ipython",
    "version": 2
   },
   "file_extension": ".py",
   "mimetype": "text/x-python",
   "name": "python",
   "nbconvert_exporter": "python",
   "pygments_lexer": "ipython2",
   "version": "2.7.11"
  }
 },
 "nbformat": 4,
 "nbformat_minor": 0
}
