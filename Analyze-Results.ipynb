{
 "cells": [
  {
   "cell_type": "code",
   "execution_count": 1,
   "metadata": {
    "collapsed": true
   },
   "outputs": [],
   "source": [
    "import numpy as np\n",
    "import matplotlib.pyplot as plt\n",
    "%matplotlib inline\n",
    "np.set_printoptions(precision=4, suppress=True)"
   ]
  },
  {
   "cell_type": "code",
   "execution_count": 2,
   "metadata": {
    "collapsed": true
   },
   "outputs": [],
   "source": [
    "h_laser_low = 1000\n",
    "h_laser_med = 1000\n",
    "h_laser_high = 1000"
   ]
  },
  {
   "cell_type": "code",
   "execution_count": 3,
   "metadata": {
    "collapsed": false
   },
   "outputs": [
    {
     "name": "stdout",
     "output_type": "stream",
     "text": [
      "20160825-143207-156\n"
     ]
    }
   ],
   "source": [
    "date = \"20160825-143207-156\"\n",
    "fname = 'results/' + date + '.txt'\n",
    "\n",
    "print date\n",
    "data = np.loadtxt(fname)"
   ]
  },
  {
   "cell_type": "code",
   "execution_count": 4,
   "metadata": {
    "collapsed": false
   },
   "outputs": [
    {
     "data": {
      "text/plain": [
       "(22, 3)"
      ]
     },
     "execution_count": 4,
     "metadata": {},
     "output_type": "execute_result"
    }
   ],
   "source": [
    "data.shape"
   ]
  },
  {
   "cell_type": "code",
   "execution_count": 5,
   "metadata": {
    "collapsed": false
   },
   "outputs": [],
   "source": [
    "pix_dist = data[: , 0].ravel()\n",
    "altitude = data[: , 1].ravel()\n",
    "alt_err = data[: , 2].ravel()"
   ]
  },
  {
   "cell_type": "code",
   "execution_count": 6,
   "metadata": {
    "collapsed": false
   },
   "outputs": [
    {
     "name": "stdout",
     "output_type": "stream",
     "text": [
      "22\n",
      "22\n"
     ]
    }
   ],
   "source": [
    "print data.shape[0]\n",
    "\n",
    "idx_arr = altitude.argsort(axis=0)\n",
    "print idx_arr.shape[0]"
   ]
  },
  {
   "cell_type": "code",
   "execution_count": 7,
   "metadata": {
    "collapsed": false
   },
   "outputs": [],
   "source": [
    "pix_dist = pix_dist[idx_arr]\n",
    "altitude = altitude[idx_arr]\n",
    "alt_err = alt_err[idx_arr]"
   ]
  },
  {
   "cell_type": "code",
   "execution_count": 8,
   "metadata": {
    "collapsed": false
   },
   "outputs": [
    {
     "name": "stdout",
     "output_type": "stream",
     "text": [
      "[[  100.       434.5767    45.6481]\n",
      " [   49.       886.8911    98.3588]\n",
      " [   41.      1059.9431   120.9126]\n",
      " [   39.      1114.2991   128.33  ]\n",
      " [   38.      1143.6228   132.4015]\n",
      " [   37.      1174.5315   136.7476]\n",
      " [   37.      1174.5315   136.7476]\n",
      " [   35.      1241.6476   146.3817]\n",
      " [   34.      1278.1666   151.7399]\n",
      " [   34.      1278.1666   151.7399]\n",
      " [   33.      1316.899    157.5144]\n",
      " [   33.      1316.899    157.5144]\n",
      " [   32.      1358.0521   163.755 ]\n",
      " [   31.      1401.8602   170.5195]\n",
      " [   31.      1401.8602   170.5195]\n",
      " [   29.      1498.5402   185.9019]\n",
      " [   27.      1609.5432   204.3578]\n",
      " [   27.      1609.5432   204.3578]\n",
      " [   27.      1609.5432   204.3578]\n",
      " [   26.      1671.4487   215.0307]\n",
      " [   24.      1810.7361   240.0706]\n",
      " [   23.      1889.4637   254.867 ]]\n"
     ]
    }
   ],
   "source": [
    "# Make data sorted by altitude\n",
    "data[:, 0] = pix_dist\n",
    "data[:, 1] = altitude\n",
    "data[:, 2] = alt_err\n",
    "# Leave only lines with alt_error less than 50% of altitude\n",
    "data = data[ data[:, 2] / data[:, 1] < 0.5 ]\n",
    "print data"
   ]
  },
  {
   "cell_type": "code",
   "execution_count": 9,
   "metadata": {
    "collapsed": false
   },
   "outputs": [
    {
     "data": {
      "text/plain": [
       "(22, 3)"
      ]
     },
     "execution_count": 9,
     "metadata": {},
     "output_type": "execute_result"
    }
   ],
   "source": [
    "# Shape after removing items with ratio_err > 50%\n",
    "data.shape"
   ]
  },
  {
   "cell_type": "code",
   "execution_count": 10,
   "metadata": {
    "collapsed": true
   },
   "outputs": [],
   "source": [
    "pix_dist = data[: , 0].ravel()\n",
    "altitude = data[: , 1].ravel()\n",
    "alt_err = data[: , 2].ravel()"
   ]
  },
  {
   "cell_type": "code",
   "execution_count": 11,
   "metadata": {
    "collapsed": false
   },
   "outputs": [
    {
     "data": {
      "image/png": "[encoded data removed]",
      "text/plain": [
       "<matplotlib.figure.Figure at 0x7f199fa162d0>"
      ]
     },
     "metadata": {},
     "output_type": "display_data"
    }
   ],
   "source": [
    "plt.figure(figsize=(10, 6))\n",
    "plt.errorbar(range(altitude.shape[0]), altitude, yerr=alt_err, marker='o', linestyle='None')\n",
    "plt.title(date)\n",
    "plt.xlabel('Number of experiment')\n",
    "plt.ylabel('Altitude, m')\n",
    "plt.plot(range(altitude.shape[0]), h_laser_low * np.ones_like(altitude), 'r', label='Laser')\n",
    "plt.plot(range(altitude.shape[0]), h_laser_med * np.ones_like(altitude), 'r')\n",
    "plt.plot(range(altitude.shape[0]), h_laser_high * np.ones_like(altitude), 'r')\n",
    "plt.legend(loc = 'upper left')\n",
    "plt.ylim( (min( altitude.min(), 0.6 * h_laser_low),\n",
    "           max(altitude.max(), 1.1 * h_laser_high)) )\n",
    "plt.savefig('results/' +'plot_' + date + '_' + str(altitude.shape[0]) + '.png')"
   ]
  },
  {
   "cell_type": "code",
   "execution_count": 12,
   "metadata": {
    "collapsed": false
   },
   "outputs": [
    {
     "name": "stdout",
     "output_type": "stream",
     "text": [
      "[  434.5767   886.8911  1059.9431  1114.2991  1143.6228  1174.5315\n",
      "  1174.5315  1241.6476  1278.1666  1278.1666  1316.899   1316.899\n",
      "  1358.0521  1401.8602  1401.8602  1498.5402  1609.5432  1609.5432\n",
      "  1609.5432  1671.4487  1810.7361  1889.4637]\n"
     ]
    }
   ],
   "source": [
    "print altitude"
   ]
  },
  {
   "cell_type": "code",
   "execution_count": null,
   "metadata": {
    "collapsed": true
   },
   "outputs": [],
   "source": []
  }
 ],
 "metadata": {
  "kernelspec": {
   "display_name": "Python 2",
   "language": "python",
   "name": "python2"
  },
  "language_info": {
   "codemirror_mode": {
    "name": "ipython",
    "version": 2
   },
   "file_extension": ".py",
   "mimetype": "text/x-python",
   "name": "python",
   "nbconvert_exporter": "python",
   "pygments_lexer": "ipython2",
   "version": "2.7.11"
  }
 },
 "nbformat": 4,
 "nbformat_minor": 0
}
