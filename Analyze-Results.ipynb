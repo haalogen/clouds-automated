{
 "cells": [
  {
   "cell_type": "code",
   "execution_count": 81,
   "metadata": {
    "collapsed": true
   },
   "outputs": [],
   "source": [
    "import numpy as np\n",
    "import matplotlib.pyplot as plt\n",
    "%matplotlib inline"
   ]
  },
  {
   "cell_type": "code",
   "execution_count": 82,
   "metadata": {
    "collapsed": true
   },
   "outputs": [],
   "source": [
    "h_laser_low = 1650\n",
    "h_laser_med = 1650\n",
    "h_laser_high = 1650"
   ]
  },
  {
   "cell_type": "code",
   "execution_count": 83,
   "metadata": {
    "collapsed": false
   },
   "outputs": [
    {
     "name": "stdout",
     "output_type": "stream",
     "text": [
      "20160909-141139-078\n"
     ]
    }
   ],
   "source": [
    "date = \"20160909-141139-078\"\n",
    "fname = 'results/' + date + '.txt'\n",
    "\n",
    "print date\n",
    "data = np.loadtxt(fname)"
   ]
  },
  {
   "cell_type": "code",
   "execution_count": 84,
   "metadata": {
    "collapsed": false
   },
   "outputs": [
    {
     "data": {
      "text/plain": [
       "(100, 3)"
      ]
     },
     "execution_count": 84,
     "metadata": {},
     "output_type": "execute_result"
    }
   ],
   "source": [
    "data.shape"
   ]
  },
  {
   "cell_type": "code",
   "execution_count": 85,
   "metadata": {
    "collapsed": false
   },
   "outputs": [],
   "source": [
    "pix_dist = data[: , 0].ravel()\n",
    "altitude = data[: , 1].ravel()\n",
    "alt_err = data[: , 2].ravel()"
   ]
  },
  {
   "cell_type": "code",
   "execution_count": 86,
   "metadata": {
    "collapsed": true
   },
   "outputs": [],
   "source": [
    "# Throw away lowest 10% and highest 10%\n",
    "offset = int(0.1 * data.shape[0])"
   ]
  },
  {
   "cell_type": "code",
   "execution_count": 87,
   "metadata": {
    "collapsed": false
   },
   "outputs": [
    {
     "name": "stdout",
     "output_type": "stream",
     "text": [
      "100\n",
      "80\n"
     ]
    }
   ],
   "source": [
    "print data.shape[0]\n",
    "idx_arr = altitude.argsort(axis=0)[offset : -offset]\n",
    "print idx_arr.shape[0]"
   ]
  },
  {
   "cell_type": "code",
   "execution_count": 88,
   "metadata": {
    "collapsed": false
   },
   "outputs": [],
   "source": [
    "pix_dist = pix_dist[idx_arr]\n",
    "altitude = altitude[idx_arr]\n",
    "alt_err = alt_err[idx_arr]"
   ]
  },
  {
   "cell_type": "code",
   "execution_count": 89,
   "metadata": {
    "collapsed": false
   },
   "outputs": [
    {
     "data": {
      "image/png": "[encoded data removed]",
      "text/plain": [
       "<matplotlib.figure.Figure at 0x7f7242066310>"
      ]
     },
     "metadata": {},
     "output_type": "display_data"
    }
   ],
   "source": [
    "plt.figure(figsize=(10, 6))\n",
    "plt.errorbar(range(altitude.shape[0]), altitude, yerr=alt_err, marker='o', linestyle='None')\n",
    "plt.title(date)\n",
    "plt.xlabel('Number of experiment')\n",
    "plt.ylabel('Altitude, m')\n",
    "plt.plot(range(altitude.shape[0]), h_laser_low * np.ones_like(altitude), 'r', label='Laser')\n",
    "plt.plot(range(altitude.shape[0]), h_laser_med * np.ones_like(altitude), 'r')\n",
    "plt.plot(range(altitude.shape[0]), h_laser_high * np.ones_like(altitude), 'r')\n",
    "plt.plot(range(altitude.shape[0]), altitude.mean() * np.ones_like(altitude), 'g', label='Mean')\n",
    "plt.legend(loc = 'upper left')\n",
    "plt.ylim((altitude.min(), altitude.max()))\n",
    "plt.savefig('results/' +'plot_' + date + '_' + str(altitude.shape[0]) + '.png')"
   ]
  },
  {
   "cell_type": "code",
   "execution_count": 90,
   "metadata": {
    "collapsed": false
   },
   "outputs": [
    {
     "name": "stdout",
     "output_type": "stream",
     "text": [
      "[  323.29643749   336.99543908   339.87574198   342.80570527   348.81984045\n",
      "   432.23328056   457.0742737    473.3983549    473.3983549    479.10194954\n",
      "   479.10194954   484.94465624   509.81361297   523.22976068   523.22976068\n",
      "   568.07802588   568.07802588   576.31104075   593.5143554    621.3353408\n",
      "   641.37841631   641.37841631   662.75769686   697.6396809    697.6396809\n",
      "   710.09753235   736.39744095   736.39744095   736.39744095   750.29173229\n",
      "   750.29173229   750.29173229   779.71493748   811.54003697   811.54003697\n",
      "   811.54003697   828.44712107   946.7967098   1169.57240622  1371.22282109\n",
      "  1371.22282109  1472.79488191  1472.79488191  1529.44083891  1529.44083891\n",
      "  1656.89424215  1728.93312224  1728.93312224  1807.52099143  1807.52099143\n",
      "  1807.52099143  1893.5934196   1893.5934196   1988.27309058  1988.27309058\n",
      "  1988.27309058  2092.91904271  2092.91904271  2209.19232286  2209.19232286\n",
      "  2209.19232286  2339.14481244  2339.14481244  2339.14481244  2339.14481244\n",
      "  2485.34136322  2651.03078744  2840.3901294   3058.88167781  3058.88167781\n",
      "  3615.04198287  3615.04198287  3615.04198287  3976.54618115  3976.54618115\n",
      "  4418.38464573  4418.38464573  4418.38464573  4970.68272644  5680.78025879]\n"
     ]
    }
   ],
   "source": [
    "print altitude"
   ]
  },
  {
   "cell_type": "code",
   "execution_count": null,
   "metadata": {
    "collapsed": true
   },
   "outputs": [],
   "source": []
  }
 ],
 "metadata": {
  "kernelspec": {
   "display_name": "Python 2",
   "language": "python",
   "name": "python2"
  },
  "language_info": {
   "codemirror_mode": {
    "name": "ipython",
    "version": 2
   },
   "file_extension": ".py",
   "mimetype": "text/x-python",
   "name": "python",
   "nbconvert_exporter": "python",
   "pygments_lexer": "ipython2",
   "version": "2.7.11"
  }
 },
 "nbformat": 4,
 "nbformat_minor": 0
}
