{
 "cells": [
  {
   "cell_type": "code",
   "execution_count": null,
   "metadata": {},
   "outputs": [],
   "source": [
    "!pip install numpy Pillow matplotlib"
   ]
  },
  {
   "cell_type": "code",
   "execution_count": null,
   "metadata": {
    "colab": {},
    "colab_type": "code",
    "id": "-6fkJGT_VTLZ"
   },
   "outputs": [],
   "source": [
    "import numpy as np\n",
    "from PIL import Image\n",
    "import matplotlib.pyplot as plt\n",
    "%matplotlib inline"
   ]
  },
  {
   "cell_type": "code",
   "execution_count": null,
   "metadata": {
    "colab": {},
    "colab_type": "code",
    "id": "jhpDzTsiVTLp"
   },
   "outputs": [],
   "source": [
    "np.set_printoptions(precision=4)"
   ]
  },
  {
   "cell_type": "code",
   "execution_count": null,
   "metadata": {
    "colab": {},
    "colab_type": "code",
    "id": "cQLlgoK7VTLy"
   },
   "outputs": [],
   "source": [
    "BIG_WIDTH = 3072 # Ширина большого изображения (пиксели)\n",
    "\n",
    "# typical Other settings \\ Типичные значения параметров\n",
    "settings = [17, 0.5, 62, 5, 64, 200]\n",
    "\n",
    "base = settings[0] # Длина базы (метры)\n",
    "base_err = settings[1] # Ошибка длины базы (метры)\n",
    "viewangle_x = settings[2] # in degrees \\ Угол обзора камеры (градусы)\n",
    "viewangle_x_err = settings[3] # in degrees \\ Ошибка угла обзора (градусы)\n",
    "num_shades = int(settings[4]) # Количество градаций серого (максимум 256) для изображений\n",
    "min_height = settings[5] # Априорно известная минимальная высота облака (метры)\n",
    "\n",
    "resolution_x = BIG_WIDTH; # Разрешение кадра по оси Х\n",
    "viewangle = np.pi * viewangle_x / 180.0 # Угол обзора камеры (радианы)"
   ]
  },
  {
   "cell_type": "code",
   "execution_count": null,
   "metadata": {
    "colab": {},
    "colab_type": "code",
    "id": "Wyjc3bWsVTL7"
   },
   "outputs": [],
   "source": [
    "# g === area (big image) -- from RIGHT img (#2) \\ g - Область поиска на ПРАВОМ кадре\n",
    "# f === fragment -- from LEFT img (#1) \\ f - Фрагмент с ЛЕВОГО кадра\n",
    "date = \"20160825-143207-156\" # Дата съемки (часть имени файла)\n",
    "\n",
    "# Открываем съюстированные изображения\n",
    "f = Image.open(\"img/\" + date + \"-1_aff_applied.jpg\").convert('L')\n",
    "g = Image.open(\"img/\" + date + \"-2_aff_applied.jpg\").convert('L')\n",
    "\n",
    "# Конвертируем изображения в Grayscale\n",
    "f = f.convert(\"P\", palette=Image.ADAPTIVE, colors=num_shades)\n",
    "g = g.convert(\"P\", palette=Image.ADAPTIVE, colors=num_shades)\n",
    "\n",
    "# Get fragment from left image \\ Размеры фрагмента \"f\"\n",
    "wf = 150\n",
    "hf = 150\n",
    "\n",
    "# Координаты лев верх угла фрагмента\n",
    "xf = np.random.randint(f.width / 4.0, 3 * f.width / 4.0)\n",
    "yf = np.random.randint(f.height / 4.0, 3 * f.height / 4.0)\n",
    "\n",
    "# Оставляем только фрагмент из левого изображения\n",
    "crop_box = (xf, yf, xf + wf, yf + hf)\n",
    "f = f.crop(crop_box)\n"
   ]
  },
  {
   "cell_type": "code",
   "execution_count": null,
   "metadata": {
    "colab": {},
    "colab_type": "code",
    "id": "z0MIBCWcVTMF",
    "outputId": "8b81b47a-bf0d-4ad5-d1d4-97b93eafcbdd"
   },
   "outputs": [],
   "source": [
    "# Create matrix of fragment \\ Яркости фрагмента записываем в матрицу\n",
    "f_mat = np.asarray(f.getdata(), dtype=np.int).reshape(f.size[1], f.size[0])\n",
    "Image.fromarray((f_mat * 256 / num_shades).astype('uint8'), 'L') # Рисуем фрагмент"
   ]
  },
  {
   "cell_type": "code",
   "execution_count": null,
   "metadata": {
    "colab": {},
    "colab_type": "code",
    "id": "4F9c5QT5VTMW",
    "outputId": "0c72d46a-8627-4e6a-bb5e-2d43762407e2"
   },
   "outputs": [],
   "source": [
    "# Flip matrix \\ Переворачиваем матрицу фрагмента (нужно для БПФ)\n",
    "f_mat = np.fliplr(f_mat)\n",
    "f_mat = np.flipud(f_mat)\n",
    "\n",
    "print (f.size)\n",
    "print (yf, xf)\n",
    "Image.fromarray((f_mat * 256 / num_shades).astype('uint8'), 'L')"
   ]
  },
  {
   "cell_type": "code",
   "execution_count": null,
   "metadata": {
    "colab": {},
    "colab_type": "code",
    "id": "6kv4rdP4VTMk",
    "outputId": "977c77ef-53b1-4789-9d4f-5135903e68fe"
   },
   "outputs": [],
   "source": [
    "# g === area (big image) -- from RIGHT img (#2)\n",
    "# f === fragment -- from LEFT img (#1)\n",
    "\n",
    "\n",
    "# mpd is Maximum Pixel Distance <--> Minimum cloud height(altitude) \n",
    "# Максимальная дистанция (пикс) между фрагментами. Связана с минимальной высотой облака\n",
    "mpd = base * resolution_x / (2 * np.tan(viewangle / 2.0) * min_height)\n",
    "fac_x = 1; # reserve-coefficient \\ Коэффициент запаса по оси Х\n",
    "fac_y = 1.5; #reserve-coefficient \\ \\ Коэффициент запаса по оси Y\n",
    "\n",
    "# Координаты лев верх угла области поиска \"g\" с ПРАВОГО изображения\n",
    "area_x = int(xf - fac_x * wf)\n",
    "area_y = int(yf - fac_y * hf)\n",
    "# Ширина и высота области поиска \"g\" с ПРАВОГО изображения\n",
    "area_width = int(mpd + 2 * fac_x * wf)\n",
    "area_height = int(2 * fac_y * hf)\n",
    "print (area_x, area_y)\n",
    "print (area_width, area_height)\n",
    "\n",
    "# area to search on right image \\ С правого изображения оставляем только область поиска \"g\"\n",
    "g = g.crop( (area_x, area_y, \n",
    "                        area_x + area_width, area_y + area_height) ) \n",
    "\n",
    "wg = area_width\n",
    "hg = area_height\n",
    "xg = area_x\n",
    "yg = area_y"
   ]
  },
  {
   "cell_type": "code",
   "execution_count": null,
   "metadata": {
    "colab": {},
    "colab_type": "code",
    "id": "3HdG92LbVTMv",
    "outputId": "b88b3d66-fd8b-4778-afe6-73d71b3c9dd4"
   },
   "outputs": [],
   "source": [
    "print (g.size)\n",
    "# Записываем значения яркостей изображения \"g\" в матрицу\n",
    "g_mat = np.asarray(g.getdata(), dtype=np.int).reshape(g.size[1], g.size[0])"
   ]
  },
  {
   "cell_type": "code",
   "execution_count": null,
   "metadata": {
    "colab": {},
    "colab_type": "code",
    "id": "Vyl6b5-MVTM6",
    "outputId": "64b8428e-4394-459a-88a1-35337895811e"
   },
   "outputs": [],
   "source": [
    "Image.fromarray((g_mat * 256 / num_shades).astype('uint8'), 'L') # Рисуем \"g\""
   ]
  },
  {
   "cell_type": "code",
   "execution_count": null,
   "metadata": {
    "colab": {},
    "colab_type": "code",
    "id": "ePqbO0kJVTNH"
   },
   "outputs": [],
   "source": [
    "# Seacrh algo here \\ Здесь начинается алгоритм поиска"
   ]
  },
  {
   "cell_type": "code",
   "execution_count": null,
   "metadata": {
    "colab": {},
    "colab_type": "code",
    "id": "J1pDy2H9VTNP"
   },
   "outputs": [],
   "source": [
    "# Create indicators of f \\ Создаем индикаторные функции \"хи\"\n",
    "# of size == g.size \\ Размеры: число градаций серого * размеры области поиска \"g\"\n",
    "chi = np.zeros((num_shades, g.size[1], g.size[0]), dtype=bool)"
   ]
  },
  {
   "cell_type": "code",
   "execution_count": null,
   "metadata": {
    "colab": {},
    "colab_type": "code",
    "id": "2BTM2Ci7VTNZ"
   },
   "outputs": [],
   "source": [
    "# fill the indicators \\ Заполняем индикаторные функции\n",
    "for h in range(f.size[1]):\n",
    "    for w in range(f.size[0]):\n",
    "        color = f_mat[h, w]\n",
    "        chi[color, h, w] = True"
   ]
  },
  {
   "cell_type": "code",
   "execution_count": null,
   "metadata": {
    "colab": {},
    "colab_type": "code",
    "id": "2jIjf0lQVTNi"
   },
   "outputs": [],
   "source": [
    "# chi_elems[i] === number of pixels that have color \"i\" \\ Гистограмма яркости пикселей фрагмента \"f\"\n",
    "chi_elems = np.array( f.histogram() )"
   ]
  },
  {
   "cell_type": "code",
   "execution_count": null,
   "metadata": {
    "colab": {},
    "colab_type": "code",
    "id": "NwZPWE1rVTNp"
   },
   "outputs": [],
   "source": [
    "fft_chi = np.fft.fft2(chi) # Прямое 2D БПФ от инд. функций \"хи\""
   ]
  },
  {
   "cell_type": "code",
   "execution_count": null,
   "metadata": {
    "colab": {},
    "colab_type": "code",
    "id": "DKYLQHB1VTNy"
   },
   "outputs": [],
   "source": [
    "fft_g = np.fft.fft2(g_mat) # Прямое 2D БПФ от матрицы пикселей области \"g\""
   ]
  },
  {
   "cell_type": "code",
   "execution_count": null,
   "metadata": {
    "colab": {},
    "colab_type": "code",
    "id": "fujRcDv9VTN6",
    "outputId": "f6c43b58-9a30-4806-e935-e0f7e54e9096"
   },
   "outputs": [],
   "source": [
    "# Scalar product (g_frag, chi[i]) \n",
    "sp_g_frag_chi = np.zeros((num_shades, g.size[1] - hf, g.size[0] - wf))\n",
    "\n",
    "# Вычисляем скалярные произведения (g_frag * chi[i]) (через обратное БПФ)\n",
    "for i in range(num_shades):\n",
    "    if chi_elems[i] > 0:\n",
    "        sp_g_frag_chi[i] = np.fft.ifft2(fft_g * fft_chi[i])[hf:, wf:]"
   ]
  },
  {
   "cell_type": "code",
   "execution_count": null,
   "metadata": {
    "colab": {},
    "colab_type": "code",
    "id": "JJl9LpauVTOK"
   },
   "outputs": [],
   "source": [
    "# || Projection of g_frag on f ||^2 \\ Считаем квадрат нормы проекции \"g_frag\" на \"f\"\n",
    "norm_pr_gfrag_sqr = np.zeros((g.size[1] - hf, g.size[0] - wf))\n",
    "for i in range(num_shades):\n",
    "    if chi_elems[i] > 0:\n",
    "        norm_pr_gfrag_sqr += sp_g_frag_chi[i] ** 2 / float(chi_elems[i])\n",
    "        "
   ]
  },
  {
   "cell_type": "code",
   "execution_count": null,
   "metadata": {
    "colab": {},
    "colab_type": "code",
    "id": "gvcvy-1MVTOY",
    "outputId": "6ff440b4-b8f0-484d-bf16-5d870e6ab107"
   },
   "outputs": [],
   "source": [
    "plt.plot(norm_pr_gfrag_sqr.ravel()) # Рисуем квадрат нормы проекции \"g_frag\" на \"f\""
   ]
  },
  {
   "cell_type": "code",
   "execution_count": null,
   "metadata": {
    "colab": {},
    "colab_type": "code",
    "id": "Y7LlN7W7VTOr",
    "outputId": "90d55139-e33f-4598-fae5-1fb6ff20244d"
   },
   "outputs": [],
   "source": [
    "# chi_X -- const field of vision \\ \"chi_X\" - поле зрения постоянной яркости:\n",
    "# 1 1 1 0 0 ... 0\n",
    "# 1 1 1 0 0 ... 0\n",
    "# 1 1 1 0 0 ... 0\n",
    "# 0 0 0 0 0 ... 0\n",
    "# . . .\n",
    "# 0 0 0 0 0 ... 0\n",
    "chi_X = np.zeros((g.size[1], g.size[0]), dtype=bool)\n",
    "chi_X[:hf, :wf] = np.ones((hf, wf))\n",
    "\n",
    "print (g_mat.min())\n",
    "print ((g_mat**2).min())\n",
    "\n",
    "# || g ||^2 \\ Считаем кадрат нормы фрагмента \"g\" \"g_frag\"\n",
    "fft_gsqr = np.fft.fft2(g_mat ** 2)\n",
    "fft_chi_X = np.fft.fft2(chi_X)\n",
    "norm_gfrag_sqr = np.fft.ifft2(fft_gsqr * fft_chi_X)[hf:, wf:].astype('float')\n",
    "\n",
    "# norm_gfrag_sqr = abs(norm_gfrag_sqr)"
   ]
  },
  {
   "cell_type": "code",
   "execution_count": null,
   "metadata": {
    "colab": {},
    "colab_type": "code",
    "id": "QYSv0M65VTO5",
    "outputId": "56c7dcd0-cfe3-4500-cb86-2593f3b9ff23"
   },
   "outputs": [],
   "source": [
    "# Считаем еще квадрат нормы\n",
    "norm_E_gfrag_sqr = np.fft.ifft2(fft_g * fft_chi_X)[hf:, wf:].astype('float') \\\n",
    "                        ** 2 / (hf * wf)"
   ]
  },
  {
   "cell_type": "code",
   "execution_count": null,
   "metadata": {
    "colab": {},
    "colab_type": "code",
    "id": "vgqbLMroVTPT",
    "outputId": "20714b1f-d676-4627-9c7d-db9f284827e5"
   },
   "outputs": [],
   "source": [
    "# Вычисляем значение числителя метрики \"tau\", которую нужно минимизировать для решения задачи поиска\n",
    "numerator = norm_gfrag_sqr - norm_pr_gfrag_sqr\n",
    "plt.plot(numerator.ravel())\n",
    "print (numerator.min())"
   ]
  },
  {
   "cell_type": "code",
   "execution_count": null,
   "metadata": {
    "colab": {},
    "colab_type": "code",
    "id": "tbc8IbcjVTPg",
    "outputId": "4bb62d98-683e-4df2-aa67-9406ed0162ff"
   },
   "outputs": [],
   "source": [
    "# Вычисляем значение знаменателя метрики \"tau\"\n",
    "denominator = norm_pr_gfrag_sqr - norm_E_gfrag_sqr\n",
    "plt.plot(denominator.ravel())"
   ]
  },
  {
   "cell_type": "code",
   "execution_count": null,
   "metadata": {
    "colab": {},
    "colab_type": "code",
    "id": "aXBqgMOkVTPr"
   },
   "outputs": [],
   "source": [
    "tau = numerator / denominator # Считаем \"tau\"\n"
   ]
  },
  {
   "cell_type": "code",
   "execution_count": null,
   "metadata": {
    "colab": {},
    "colab_type": "code",
    "id": "WTfBy7MeVTP0",
    "outputId": "8fe10481-ec64-4cc1-f360-c15f4aac4994"
   },
   "outputs": [],
   "source": [
    "plt.plot(tau.ravel(), label='tau') # Рисуем \"tau\"\n",
    "plt.legend()\n",
    "idx_min = tau.argmin() # Находим индекс минимального значения \"tau\"\n",
    "print (idx_min)\n",
    "\n",
    "print ('Left:', yf, xf)\n",
    "# Вычисляем значения координат найденного фрагмента в области \"g\"\n",
    "y_found = idx_min // tau.shape[1] + 1\n",
    "x_found = idx_min % tau.shape[1] + 1\n",
    "print ('Right:', y_found + yg, x_found + xg)"
   ]
  },
  {
   "cell_type": "code",
   "execution_count": null,
   "metadata": {
    "colab": {},
    "colab_type": "code",
    "id": "DT4_Jsd-VTQF",
    "outputId": "abe66b4c-86ef-4fac-aaab-19e2692e975f"
   },
   "outputs": [],
   "source": [
    "found_gfrag = g_mat[y_found : y_found + hf, x_found : x_found + wf]\n",
    "Image.fromarray((found_gfrag * 256 / num_shades).astype('uint8'), 'L') # Рисуем найденный в области \"g\" фрагмент"
   ]
  },
  {
   "cell_type": "code",
   "execution_count": null,
   "metadata": {
    "colab": {},
    "colab_type": "code",
    "id": "i_JYGKQzVTQp",
    "outputId": "a106b078-1940-491a-a3cf-4f73352b8b76"
   },
   "outputs": [],
   "source": [
    "# Flip matrix \\ Переворачиваем обратно матрицу \"f\"\n",
    "f_mat = np.fliplr(f_mat)\n",
    "f_mat = np.flipud(f_mat)\n",
    "\n",
    "Image.fromarray((f_mat * 256 / num_shades).astype('uint8'), 'L') # Рисуем искомый фрагмент \"f\""
   ]
  },
  {
   "cell_type": "code",
   "execution_count": null,
   "metadata": {
    "colab": {},
    "colab_type": "code",
    "id": "QRAL0-kAVTQ2"
   },
   "outputs": [],
   "source": [
    "# result x, y -- Вычисляем координаты найденного фрагмента на правом кадре\n",
    "res_y, res_x = y_found + yg, x_found + xg"
   ]
  },
  {
   "cell_type": "code",
   "execution_count": null,
   "metadata": {
    "colab": {},
    "colab_type": "code",
    "id": "0D1Du83IVTRF",
    "outputId": "db7e17a0-da3f-4b5e-c872-3272f03f4285"
   },
   "outputs": [],
   "source": [
    "# Calculate altitude \\ Считаем высоту\n",
    "x_pixel_distance = abs(res_x - xf) # Модуль дистанции по горизонтали (пикс)\n",
    "viewangle = np.pi * viewangle_x / 180.0; # Угол обзора камеры (рад)\n",
    "altitude = base * resolution_x / (2 * np.tan(viewangle / 2.0) * x_pixel_distance) # высота (м)\n",
    "resolution_x_err = 2; # pixels \\ Ошибка определения разрешения кадра по Х\n",
    "\n",
    "# Ошибка определения дистанции (пикс)\n",
    "err_distance = base_err * resolution_x / ( 2 * np.tan(viewangle / 2.0) * x_pixel_distance )\n",
    "\n",
    "# Ошибка угла обзора\n",
    "err_viewangle = (viewangle_x_err * np.pi / 180.0) * ( base * resolution_x / \\\n",
    "                                                   (4.0 * x_pixel_distance * (np.sin(viewangle / 2.0)) ** 2) )\n",
    "\n",
    "# Ошибка разрешения по Х\n",
    "err_resolution = resolution_x_err * base * resolution_x / \\\n",
    "                    ( 2 * np.tan(viewangle / 2.0) * (x_pixel_distance) ** 2 ) \n",
    "\n",
    "# Ошибка высоты (м)\n",
    "total_error = np.sqrt( err_distance ** 2 + err_viewangle ** 2 + err_resolution ** 2 )\n",
    "ratio_error = total_error * 100.0 / altitude # Относительное значение погрешности высоты\n",
    "\n",
    "\n",
    "print (\"Search done\")\n",
    "print (\"Pixel distance:\", x_pixel_distance)\n",
    "print (\"Altitude: %f +- %f meters (error is %f percent)\" % (altitude, total_error, ratio_error))"
   ]
  },
  {
   "cell_type": "code",
   "execution_count": null,
   "metadata": {
    "colab": {},
    "colab_type": "code",
    "id": "ldmWKDWmVTRV",
    "outputId": "3350042a-995c-4f31-e363-a115f1107dac"
   },
   "outputs": [],
   "source": [
    "# (For brightness-altitude correlation)\n",
    "# Integral brightness of fragment === sum of all pixel values \n",
    "# in fragment\n",
    "integral_brightness = f_mat.sum() # Суммарная яркость фрагмента\n",
    "print ('integral_brightness:', integral_brightness)"
   ]
  },
  {
   "cell_type": "code",
   "execution_count": null,
   "metadata": {
    "colab": {},
    "colab_type": "code",
    "id": "bNz4lDdDVTRl"
   },
   "outputs": [],
   "source": [
    "# Записываем результаты в конец файла \"results/$ДАТА$.txt\"\n",
    "with open('results/' + date + '.txt', mode='a') as f:\n",
    "    s = str(x_pixel_distance) + ' ' + str(altitude) + ' ' + \\\n",
    "        str(total_error) + ' ' + str(integral_brightness) + '\\n'\n",
    "    f.write(s)\n",
    "    "
   ]
  },
  {
   "cell_type": "code",
   "execution_count": null,
   "metadata": {
    "colab": {},
    "colab_type": "code",
    "id": "_Y77DJYPVTR2"
   },
   "outputs": [],
   "source": []
  }
 ],
 "metadata": {
  "colab": {
   "collapsed_sections": [],
   "name": "Find-Cloud-2Images-FFT.ipynb",
   "provenance": [],
   "version": "0.3.2"
  },
  "kernelspec": {
   "display_name": "Python 3",
   "language": "python",
   "name": "python3"
  },
  "language_info": {
   "codemirror_mode": {
    "name": "ipython",
    "version": 3
   },
   "file_extension": ".py",
   "mimetype": "text/x-python",
   "name": "python",
   "nbconvert_exporter": "python",
   "pygments_lexer": "ipython3",
   "version": "3.6.7"
  }
 },
 "nbformat": 4,
 "nbformat_minor": 1
}
