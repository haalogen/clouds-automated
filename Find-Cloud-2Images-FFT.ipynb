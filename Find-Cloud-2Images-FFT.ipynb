{
 "cells": [
  {
   "cell_type": "code",
   "execution_count": 1,
   "metadata": {
    "collapsed": true
   },
   "outputs": [],
   "source": [
    "import numpy as np\n",
    "from PIL import Image\n",
    "import matplotlib.pyplot as plt\n",
    "%matplotlib inline"
   ]
  },
  {
   "cell_type": "code",
   "execution_count": 2,
   "metadata": {
    "collapsed": false
   },
   "outputs": [],
   "source": [
    "np.set_printoptions(precision=4)"
   ]
  },
  {
   "cell_type": "code",
   "execution_count": 3,
   "metadata": {
    "collapsed": false
   },
   "outputs": [
    {
     "data": {
      "image/png": "[encoded data removed]",
      "text/plain": [
       "<PIL.Image._ImageCrop image mode=L size=150x150 at 0x7FA4AD11AE10>"
      ]
     },
     "execution_count": 3,
     "metadata": {},
     "output_type": "execute_result"
    }
   ],
   "source": [
    "# g === area (big image) -- from RIGHT img (#2)\n",
    "# f === fragment -- from LEFT img (#1)\n",
    "date = \"20160909-141139-078\"\n",
    "\n",
    "f = Image.open(\"img/\" + date + \"-1_aff_applied.png\").convert('L')\n",
    "g = Image.open(\"img/\" + date + \"-2_aff_applied.png\").convert('L')\n",
    "\n",
    "BIG_WIDTH = 3072\n",
    "\n",
    "# Get fragment from left image\n",
    "wf = 150\n",
    "hf = 150\n",
    "\n",
    "xf = np.random.randint(f.width / 4.0, 3 * f.width / 4.0)\n",
    "yf = np.random.randint(f.height / 4.0, 3 * f.height / 4.0)\n",
    "\n",
    "crop_box = (xf, yf, xf + wf, yf + hf)\n",
    "f = f.crop(crop_box)\n",
    "f"
   ]
  },
  {
   "cell_type": "code",
   "execution_count": 4,
   "metadata": {
    "collapsed": false
   },
   "outputs": [
    {
     "name": "stdout",
     "output_type": "stream",
     "text": [
      "(150, 150)\n",
      "745 830\n"
     ]
    },
    {
     "data": {
      "image/png": "[encoded data removed]",
      "text/plain": [
       "<PIL.Image.Image image mode=L size=150x150 at 0x7FA4AD1B00D0>"
      ]
     },
     "execution_count": 4,
     "metadata": {},
     "output_type": "execute_result"
    }
   ],
   "source": [
    "# Create matrix of fragment\n",
    "f_mat = np.asarray(f.getdata(), dtype=np.int).reshape(f.size[1], f.size[0])\n",
    "# Flip matrix\n",
    "f_mat = np.fliplr(f_mat)\n",
    "f_mat = np.flipud(f_mat)\n",
    "\n",
    "print f.size\n",
    "print yf, xf\n",
    "Image.fromarray(f_mat.astype('uint8'), 'L')"
   ]
  },
  {
   "cell_type": "code",
   "execution_count": 5,
   "metadata": {
    "collapsed": false
   },
   "outputs": [],
   "source": [
    "# typical Other settings: \n",
    "settings = [17, 0.5, 62, 5, 256, 200]\n",
    "\n",
    "base = settings[0]\n",
    "base_err = settings[1]\n",
    "viewangle_x = settings[2] # in degrees\n",
    "viewangle_x_err = settings[3] # in degrees\n",
    "num_shades = int(settings[4])\n",
    "min_height = settings[5]\n",
    "\n",
    "resolution_x = BIG_WIDTH;\n",
    "viewangle = np.pi * viewangle_x / 180.0"
   ]
  },
  {
   "cell_type": "code",
   "execution_count": 6,
   "metadata": {
    "collapsed": false
   },
   "outputs": [
    {
     "name": "stdout",
     "output_type": "stream",
     "text": [
      "680 520\n",
      "517 450\n"
     ]
    }
   ],
   "source": [
    "# g === area (big image) -- from RIGHT img (#2)\n",
    "# f === fragment -- from LEFT img (#1)\n",
    "\n",
    "\n",
    "# mpd is Maximum Pixel Distance <--> Minimum cloud height(altitude)\n",
    "mpd = base * resolution_x / (2 * np.tan(viewangle / 2.0) * min_height)\n",
    "fac_x = 1; # reserve-coefficient\n",
    "fac_y = 1.5; #reserve-coefficient\n",
    "\n",
    "area_x = int(xf - fac_x * wf)\n",
    "area_y = int(yf - fac_y * hf)\n",
    "area_width = int(mpd + 2 * fac_x * wf)\n",
    "area_height = int(2 * fac_y * hf)\n",
    "print area_x, area_y\n",
    "print area_width, area_height\n",
    "\n",
    "# area to search on right image\n",
    "g = g.crop( (area_x, area_y, \n",
    "                        area_x + area_width, area_y + area_height) ) \n",
    "\n",
    "wg = area_width\n",
    "hg = area_height\n",
    "xg = area_x\n",
    "yg = area_y"
   ]
  },
  {
   "cell_type": "code",
   "execution_count": 7,
   "metadata": {
    "collapsed": false
   },
   "outputs": [
    {
     "name": "stdout",
     "output_type": "stream",
     "text": [
      "(517, 450)\n"
     ]
    }
   ],
   "source": [
    "print g.size\n",
    "g_mat = np.asarray(g.getdata(), dtype=np.int).reshape(g.size[1], g.size[0])"
   ]
  },
  {
   "cell_type": "code",
   "execution_count": 8,
   "metadata": {
    "collapsed": true
   },
   "outputs": [],
   "source": [
    "# Seacrh algo here"
   ]
  },
  {
   "cell_type": "code",
   "execution_count": 9,
   "metadata": {
    "collapsed": true
   },
   "outputs": [],
   "source": [
    "num_shades = 256\n",
    "# Create indicators of f\n",
    "# of size == g.size\n",
    "chi = np.zeros((num_shades, g.size[1], g.size[0]), dtype=bool)"
   ]
  },
  {
   "cell_type": "code",
   "execution_count": 10,
   "metadata": {
    "collapsed": true
   },
   "outputs": [],
   "source": [
    "# fill the indicators\n",
    "for h in xrange(f.size[1]):\n",
    "    for w in xrange(f.size[0]):\n",
    "        color = f_mat[h, w]\n",
    "        chi[color, h, w] = True"
   ]
  },
  {
   "cell_type": "code",
   "execution_count": 11,
   "metadata": {
    "collapsed": false
   },
   "outputs": [],
   "source": [
    "# chi_elems[i] === number of pixels that have color \"i\"\n",
    "chi_elems = np.array( f.histogram() )"
   ]
  },
  {
   "cell_type": "code",
   "execution_count": 12,
   "metadata": {
    "collapsed": false
   },
   "outputs": [],
   "source": [
    "fft_chi = np.fft.fft2(chi)"
   ]
  },
  {
   "cell_type": "code",
   "execution_count": 13,
   "metadata": {
    "collapsed": true
   },
   "outputs": [],
   "source": [
    "fft_g = np.fft.fft2(g_mat)"
   ]
  },
  {
   "cell_type": "code",
   "execution_count": 14,
   "metadata": {
    "collapsed": false
   },
   "outputs": [
    {
     "name": "stderr",
     "output_type": "stream",
     "text": [
      "/home/stan/anaconda2/lib/python2.7/site-packages/ipykernel/__main__.py:6: ComplexWarning: Casting complex values to real discards the imaginary part\n"
     ]
    }
   ],
   "source": [
    "# Scalar product (g_frag, chi[i])\n",
    "sp_g_frag_chi = np.zeros((num_shades, g.size[1] - hf, g.size[0] - wf))\n",
    "\n",
    "for i in xrange(num_shades):\n",
    "    if chi_elems[i] > 0:\n",
    "        sp_g_frag_chi[i] = np.fft.ifft2(fft_g * fft_chi[i])[hf:, wf:]"
   ]
  },
  {
   "cell_type": "code",
   "execution_count": 15,
   "metadata": {
    "collapsed": true
   },
   "outputs": [],
   "source": [
    "# || Projection of g_frag on f ||^2\n",
    "norm_pr_gfrag_sqr = np.zeros((g.size[1] - hf, g.size[0] - wf))\n",
    "for i in xrange(num_shades):\n",
    "    if chi_elems[i] > 0:\n",
    "        norm_pr_gfrag_sqr += sp_g_frag_chi[i] ** 2 / float(chi_elems[i])\n",
    "        "
   ]
  },
  {
   "cell_type": "code",
   "execution_count": 16,
   "metadata": {
    "collapsed": false
   },
   "outputs": [
    {
     "data": {
      "text/plain": [
       "[<matplotlib.lines.Line2D at 0x7fa460e963d0>]"
      ]
     },
     "execution_count": 16,
     "metadata": {},
     "output_type": "execute_result"
    },
    {
     "data": {
      "image/png": "[encoded data removed]",
      "text/plain": [
       "<matplotlib.figure.Figure at 0x7fa4b1ad8fd0>"
      ]
     },
     "metadata": {},
     "output_type": "display_data"
    }
   ],
   "source": [
    "plt.plot(norm_pr_gfrag_sqr.ravel())"
   ]
  },
  {
   "cell_type": "code",
   "execution_count": 17,
   "metadata": {
    "collapsed": false
   },
   "outputs": [
    {
     "name": "stdout",
     "output_type": "stream",
     "text": [
      "69\n",
      "4761\n"
     ]
    },
    {
     "name": "stderr",
     "output_type": "stream",
     "text": [
      "/home/stan/anaconda2/lib/python2.7/site-packages/ipykernel/__main__.py:17: ComplexWarning: Casting complex values to real discards the imaginary part\n"
     ]
    }
   ],
   "source": [
    "# chi_X -- const field of vision\n",
    "# 1 1 1 0 0 ... 0\n",
    "# 1 1 1 0 0 ... 0\n",
    "# 1 1 1 0 0 ... 0\n",
    "# 0 0 0 0 0 ... 0\n",
    "# . . .\n",
    "# 0 0 0 0 0 ... 0\n",
    "chi_X = np.zeros((g.size[1], g.size[0]), dtype=bool)\n",
    "chi_X[:hf, :wf] = np.ones((hf, wf))\n",
    "\n",
    "print g_mat.min()\n",
    "print (g_mat**2).min()\n",
    "\n",
    "# || g ||^2\n",
    "fft_gsqr = np.fft.fft2(g_mat ** 2)\n",
    "fft_chi_X = np.fft.fft2(chi_X)\n",
    "norm_gfrag_sqr = np.fft.ifft2(fft_gsqr * fft_chi_X)[hf:, wf:].astype('float')\n",
    "\n",
    "# norm_gfrag_sqr = abs(norm_gfrag_sqr)"
   ]
  },
  {
   "cell_type": "code",
   "execution_count": 18,
   "metadata": {
    "collapsed": false
   },
   "outputs": [
    {
     "name": "stderr",
     "output_type": "stream",
     "text": [
      "/home/stan/anaconda2/lib/python2.7/site-packages/ipykernel/__main__.py:1: ComplexWarning: Casting complex values to real discards the imaginary part\n",
      "  if __name__ == '__main__':\n"
     ]
    }
   ],
   "source": [
    "norm_E_gfrag_sqr = np.fft.ifft2(fft_g * fft_chi_X)[hf:, wf:].astype('float') \\\n",
    "                        ** 2 / (hf * wf)"
   ]
  },
  {
   "cell_type": "code",
   "execution_count": 19,
   "metadata": {
    "collapsed": false
   },
   "outputs": [
    {
     "name": "stdout",
     "output_type": "stream",
     "text": [
      "221454.233147\n"
     ]
    },
    {
     "data": {
      "image/png": "[encoded data removed]",
      "text/plain": [
       "<matplotlib.figure.Figure at 0x7fa460c0da50>"
      ]
     },
     "metadata": {},
     "output_type": "display_data"
    }
   ],
   "source": [
    "numerator = norm_gfrag_sqr - norm_pr_gfrag_sqr\n",
    "plt.plot(numerator.ravel())\n",
    "print numerator.min()"
   ]
  },
  {
   "cell_type": "code",
   "execution_count": 20,
   "metadata": {
    "collapsed": false
   },
   "outputs": [
    {
     "data": {
      "text/plain": [
       "[<matplotlib.lines.Line2D at 0x7fa460ac9250>]"
      ]
     },
     "execution_count": 20,
     "metadata": {},
     "output_type": "execute_result"
    },
    {
     "data": {
      "image/png": "[encoded data removed]",
      "text/plain": [
       "<matplotlib.figure.Figure at 0x7fa460bd4c90>"
      ]
     },
     "metadata": {},
     "output_type": "display_data"
    }
   ],
   "source": [
    "denominator = norm_pr_gfrag_sqr - norm_E_gfrag_sqr\n",
    "plt.plot(denominator.ravel())"
   ]
  },
  {
   "cell_type": "code",
   "execution_count": 21,
   "metadata": {
    "collapsed": true
   },
   "outputs": [],
   "source": [
    "tau = numerator / denominator\n"
   ]
  },
  {
   "cell_type": "code",
   "execution_count": 22,
   "metadata": {
    "collapsed": false
   },
   "outputs": [
    {
     "name": "stdout",
     "output_type": "stream",
     "text": [
      "85683\n",
      "Left: 745 830\n",
      "Right: 754 853\n"
     ]
    },
    {
     "data": {
      "image/png": "[encoded data removed]",
      "text/plain": [
       "<matplotlib.figure.Figure at 0x7fa460aeb590>"
      ]
     },
     "metadata": {},
     "output_type": "display_data"
    }
   ],
   "source": [
    "plt.plot(tau.ravel(), label='tau')\n",
    "plt.legend()\n",
    "idx_min = tau.argmin()\n",
    "print idx_min\n",
    "\n",
    "print 'Left:', yf, xf\n",
    "y_found = idx_min // tau.shape[1] + 1\n",
    "x_found = idx_min % tau.shape[1] + 1\n",
    "print 'Right:', y_found + yg, x_found + xg"
   ]
  },
  {
   "cell_type": "code",
   "execution_count": 23,
   "metadata": {
    "collapsed": false
   },
   "outputs": [
    {
     "data": {
      "image/png": "[encoded data removed]",
      "text/plain": [
       "<PIL.Image.Image image mode=L size=150x150 at 0x7FA460AE09D0>"
      ]
     },
     "execution_count": 23,
     "metadata": {},
     "output_type": "execute_result"
    }
   ],
   "source": [
    "Image.fromarray(\n",
    "    g_mat[y_found : y_found + hf, x_found : x_found + wf].astype('uint8'),\n",
    "    'L')"
   ]
  },
  {
   "cell_type": "code",
   "execution_count": 24,
   "metadata": {
    "collapsed": false
   },
   "outputs": [
    {
     "data": {
      "image/png": "[encoded data removed]",
      "text/plain": [
       "<PIL.Image._ImageCrop image mode=L size=150x150 at 0x7FA4AD11AE10>"
      ]
     },
     "execution_count": 24,
     "metadata": {},
     "output_type": "execute_result"
    }
   ],
   "source": [
    "f"
   ]
  },
  {
   "cell_type": "code",
   "execution_count": 25,
   "metadata": {
    "collapsed": true
   },
   "outputs": [],
   "source": [
    "# result x, y -- координаты кусочка, найденного в области поиска g\n",
    "res_y, res_x = y_found + yg, x_found + xg"
   ]
  },
  {
   "cell_type": "code",
   "execution_count": 26,
   "metadata": {
    "collapsed": false
   },
   "outputs": [
    {
     "name": "stdout",
     "output_type": "stream",
     "text": [
      "Search done\n",
      "Pixel distance: 23\n",
      "Altitude: 1889.463732 +- 254.867026 meters (error is 13.488855 percent)\n"
     ]
    }
   ],
   "source": [
    "# Calculate altitude\n",
    "x_pixel_distance = abs(res_x - xf)\n",
    "viewangle = np.pi * viewangle_x / 180.0;\n",
    "altitude = base * resolution_x / (2 * np.tan(viewangle / 2.0) * x_pixel_distance)\n",
    "resolution_x_err = 2; #pixels\n",
    "\n",
    "err_distance = base_err * resolution_x / ( 2 * np.tan(viewangle / 2.0) * x_pixel_distance )\n",
    "\n",
    "err_viewangle = (viewangle_x_err * np.pi / 180.0) * ( base * resolution_x / \\\n",
    "                                                   (4.0 * x_pixel_distance * (np.sin(viewangle / 2.0)) ** 2) )\n",
    "\n",
    "err_resolution = resolution_x_err * base * resolution_x / \\\n",
    "                    ( 2 * np.tan(viewangle / 2.0) * (x_pixel_distance) ** 2 ) \n",
    "\n",
    "total_error = np.sqrt( err_distance ** 2 + err_viewangle ** 2 + err_resolution ** 2 )\n",
    "ratio_error = total_error * 100.0 / altitude\n",
    "\n",
    "\n",
    "print \"Search done\"\n",
    "print \"Pixel distance:\", x_pixel_distance\n",
    "print \"Altitude: %f +- %f meters (error is %f percent)\" % (altitude, total_error, ratio_error)"
   ]
  },
  {
   "cell_type": "code",
   "execution_count": 27,
   "metadata": {
    "collapsed": false
   },
   "outputs": [],
   "source": [
    "with open('results/' + date + '.txt', mode='a') as f:\n",
    "    s = str(x_pixel_distance) + ' ' + str(altitude) + ' ' + \\\n",
    "        str(total_error) + '\\n'\n",
    "    f.write(s)\n",
    "    "
   ]
  },
  {
   "cell_type": "code",
   "execution_count": null,
   "metadata": {
    "collapsed": true
   },
   "outputs": [],
   "source": []
  }
 ],
 "metadata": {
  "kernelspec": {
   "display_name": "Python 2",
   "language": "python",
   "name": "python2"
  },
  "language_info": {
   "codemirror_mode": {
    "name": "ipython",
    "version": 2
   },
   "file_extension": ".py",
   "mimetype": "text/x-python",
   "name": "python",
   "nbconvert_exporter": "python",
   "pygments_lexer": "ipython2",
   "version": "2.7.11"
  }
 },
 "nbformat": 4,
 "nbformat_minor": 0
}
